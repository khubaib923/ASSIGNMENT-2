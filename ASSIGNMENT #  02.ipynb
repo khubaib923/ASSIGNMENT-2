{
 "cells": [
  {
   "cell_type": "code",
   "execution_count": 1,
   "metadata": {},
   "outputs": [
    {
     "name": "stdout",
     "output_type": "stream",
     "text": [
      "enter marks of math 100:89\n",
      "enter marks of english 100:90\n",
      "enter marks of urdu 100:80\n",
      "enter marks of physics 100:78\n",
      "enter marks of chemistry 100:80\n",
      "total marks are:417\n",
      "per are:83.4\n",
      "A-One grade\n"
     ]
    }
   ],
   "source": [
    "math=int(input(\"enter marks of math 100:\"))\n",
    "english=int(input(\"enter marks of english 100:\"))\n",
    "urdu=int(input(\"enter marks of urdu 100:\"))\n",
    "physics=int(input(\"enter marks of physics 100:\"))\n",
    "chemistry=int(input(\"enter marks of chemistry 100:\"))\n",
    "total_marks=math+english+urdu+physics+chemistry\n",
    "per=(total_marks*100)/500\n",
    "print(\"total marks are:\" + str(total_marks))\n",
    "print(\"per are:\" +str(per))\n",
    "if per >=80 and per <=100:\n",
    " print(\"A-One grade\")\n",
    "elif per >=70 and per <80: \n",
    " print(\"A grade\")\n",
    "elif per >=60 and per <70:\n",
    " print(\"B grade\")\n",
    "elif per >=50 and per <60:\n",
    " print(\"C grade\")\n",
    "elif per >=40 and per <50:\n",
    " print(\"D grade\")\n",
    "elif per >=33 and per <40:\n",
    " print(\"E grade\")\n",
    "elif per >= 0 and per < 33:\n",
    " print(\"F grade\")\n",
    "else:\n",
    " print(\"you have given inapproperiate %\")\n"
   ]
  },
  {
   "cell_type": "code",
   "execution_count": 2,
   "metadata": {},
   "outputs": [
    {
     "name": "stdout",
     "output_type": "stream",
     "text": [
      "Input a number:8\n",
      "EVEN NUMBER\n"
     ]
    }
   ],
   "source": [
    "no=int(input(\"Input a number:\"))\n",
    "if no%2==0:\n",
    " print(\"EVEN NUMBER\")\n",
    "elif no%2!=0:\n",
    " print(\"ODD NUMBER\")\n",
    "else:\n",
    " print(\"you have wrong input\")"
   ]
  },
  {
   "cell_type": "code",
   "execution_count": 3,
   "metadata": {},
   "outputs": [
    {
     "name": "stdout",
     "output_type": "stream",
     "text": [
      "lenght of list is= 9\n"
     ]
    }
   ],
   "source": [
    "a=[2,3,5,\"a\",\"b\",5,6,7,8]\n",
    "print(\"lenght of list is=\",len(a))"
   ]
  },
  {
   "cell_type": "code",
   "execution_count": 4,
   "metadata": {},
   "outputs": [
    {
     "name": "stdout",
     "output_type": "stream",
     "text": [
      "sum of list is=58\n"
     ]
    }
   ],
   "source": [
    "arr=[1,2,3,4,5,6,7,6,8,9,0,7]\n",
    "sum=0\n",
    "for i in arr:\n",
    " sum=sum+i\n",
    "print(\"sum of list is=\" +str(sum))\n",
    "    "
   ]
  },
  {
   "cell_type": "code",
   "execution_count": 5,
   "metadata": {},
   "outputs": [
    {
     "name": "stdout",
     "output_type": "stream",
     "text": [
      "largest number from a numeric list is=9\n"
     ]
    }
   ],
   "source": [
    "arr1=[1,2,3,4,5,6,7,8,7,9,0]\n",
    "print(\"largest number from a numeric list is=\" +str(max(arr1)))"
   ]
  },
  {
   "cell_type": "code",
   "execution_count": 7,
   "metadata": {},
   "outputs": [
    {
     "name": "stdout",
     "output_type": "stream",
     "text": [
      "1\n",
      "2\n",
      "3\n",
      "4\n",
      "5\n"
     ]
    }
   ],
   "source": [
    "arr2=[1,2,3,4,5,6,7,8,9,55,66]\n",
    "for j in arr2:\n",
    " if j <= 5:\n",
    "  print(j)"
   ]
  },
  {
   "cell_type": "code",
   "execution_count": null,
   "metadata": {},
   "outputs": [],
   "source": []
  }
 ],
 "metadata": {
  "kernelspec": {
   "display_name": "Python 3",
   "language": "python",
   "name": "python3"
  },
  "language_info": {
   "codemirror_mode": {
    "name": "ipython",
    "version": 3
   },
   "file_extension": ".py",
   "mimetype": "text/x-python",
   "name": "python",
   "nbconvert_exporter": "python",
   "pygments_lexer": "ipython3",
   "version": "3.7.4"
  }
 },
 "nbformat": 4,
 "nbformat_minor": 2
}
